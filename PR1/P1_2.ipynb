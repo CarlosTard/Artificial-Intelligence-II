{
 "cells": [
  {
   "cell_type": "markdown",
   "metadata": {},
   "source": [
    "__No te olvides de rellenar esto:__\n",
    "\n",
    "- Número de grupo: 4\n",
    "- Nombre de los integrantes del grupo: Carlos Tardón Rubio y Carlos Morán Alfonso"
   ]
  },
  {
   "cell_type": "markdown",
   "metadata": {},
   "source": [
    "# Práctica 1\n",
    "\n",
    "> __Fecha de entrega: 11 de abril de 2021__\n",
    "\n",
    "\n",
    "## Parte 2: similitud semántica\n",
    "\n",
    "Una de las grandes ventajas de las representaciones estructuradas es que podemos aprovechar su estructura para calcular similitudes semánticas entre las entidades. En esta ocasión vamos a cacular la similitud entre dos conceptos como:\n",
    "\n",
    "$$Sim(A, B) = \\frac{\\delta(root, C)}{\\delta(root, C) + \\delta(C, A) + \\delta(C, B)}$$\n",
    "\n",
    "siendo:\n",
    "\n",
    "- $\\delta(X, Y)$ el __mínimo__ número de aristas que conecta A y B, siendo A más general que B.\n",
    "- $C = LCS(A, B)$ el concepto más específico de la jerarquía que es más general que A y B (_least common subsummer_).\n",
    "\n",
    "La idea tras esta similitud queda reflejada en la siguiente imagen:\n",
    "\n",
    "<img src=\"sim.png\" alt=\"Similitud\" style=\"width: 300px;\"/>\n",
    "\n",
    "En la práctica pueden existir distintos conceptos C que cumplen la definición de _least common subsummer_ de A y B por lo que es necesario definir cuál de ellos vamos a utilizar. En nuestro caso seleccionaremos __uno de los que maximiza el valor de similitud__. "
   ]
  },
  {
   "cell_type": "markdown",
   "metadata": {},
   "source": [
    "### 1) Obtener la taxonomía con la que vamos a trabajar\n",
    "\n",
    "Utiliza el [punto el acceso](https://query.wikidata.org/) SPARQL de Wikidata para ejecutar una consulta que devuelva todos los pares de entidades $(x, y)$ tal que $x$ es subconcepto directo de $y$ y ambos son un tipos de [instrumentos musicales (Q34379)](https://www.wikidata.org/wiki/Q34379). Debes recuperar tantos las URIs de la entidades como sus etiquetas.\n",
    "\n",
    "Escribe en la siguiente celda la consulta que has utilizado comentada adecuadamente."
   ]
  },
  {
   "cell_type": "raw",
   "metadata": {},
   "source": [
    "SELECT DISTINCT ?subconcept ?subconceptLabel ?concept ?conceptLabel\n",
    "WHERE \n",
    "{\n",
    "  ?concept wdt:P279* wd:Q34379. # con tiene que ser subconcepto(tal vez indirecto) de musical instrument\n",
    "  ?subconcept wdt:P279 ?concept.    # subcon es subclase directa de con\n",
    "  \n",
    "  SERVICE wikibase:label { bd:serviceParam wikibase:language \"[AUTO_LANGUAGE],en\". }\n",
    "}"
   ]
  },
  {
   "cell_type": "markdown",
   "metadata": {},
   "source": [
    "A continuación descarga todas las respuestas en formato _Archivo JSON_ y guardalo en el mismo directorio de la práctica.\n",
    "\n",
    "_Nota: en el momento de realizar esta práctica obtuve 4727 resultados pero el número puede variar al ser Wikidata una base de conocimiento dinámica._"
   ]
  },
  {
   "cell_type": "markdown",
   "metadata": {},
   "source": [
    "### 2) Cargar la taxonomía en memoria\n",
    "\n",
    "Vamos a cargar la taxonomía de clases en memoria para poder operar con ella. Representaremos la jerarquía de lcases mediantes las siguientes estructuras:\n",
    "\n",
    "- Un diccionario que asocia a cada identificador su etiqueta (por ejemplo 'Q34379' -> 'musical instrument')\n",
    "- Un diccionario que asocia cada clase con sus subclases directas (por ejemplo 'Q695269' -> {'Q25630013', 'Q3388256', 'Q524526', 'Q846109', 'Q960389'} )\n",
    "- Un diccionario que asocia cada clase con sus superclases directas (por ejemplo 'Q34379' -> {'Q1879241', 'Q54820129'} )\n",
    "\n",
    "Tienes libertad para elegir cómo quieres representar la taxonomía en Python:\n",
    "\n",
    "- Puedes usar una clase. En ese caso tendrás que ir añadiendo métodos a la clase para completar cada uno de los apartados de la práctica. Escribe el código de la clase en una única celda y utiliza los métodos que necesites en cada uno de los apartados.\n",
    "- Puedes usar 3 variables globales para representar la taxonomía. En ese caso deberás escribir las operaciones como funciones en cada uno de los apartados de la práctica.\n",
    "\n",
    "En cualquier caso recuerda documentar adecuadamente el código y trata de que sea sencillo de entender.\n",
    "\n",
    "Crea una operación _load_ que reciba el nombre del fichero json y cargue el grafo en memoria usando las estructuras anteriores.\n",
    "\n",
    "```python\n",
    "import json\n",
    "\n",
    "with open(filename) as f:\n",
    "    data = json.load(f)\n",
    "```"
   ]
  },
  {
   "cell_type": "code",
   "execution_count": 30,
   "metadata": {},
   "outputs": [],
   "source": [
    "import json\n",
    "import sys\n",
    "\n",
    "def not_exist(dic,key):\n",
    "    try:\n",
    "        dic[key]\n",
    "    except KeyError:\n",
    "        dic[key] = set()\n",
    "\n",
    "\n",
    "## La clase taxonomia\n",
    "class taxonomia:\n",
    "    def __init__(self):\n",
    "        filename = \"query.json\"\n",
    "        url = \"http://www.wikidata.org/entity/\"\n",
    "        with open(filename,encoding='utf-8') as f: # especifico encoding para evitar errores de compilación\n",
    "            data = json.load(f)\n",
    "        self.etiquetas = dict()\n",
    "        self.subclases = dict()\n",
    "        self.superclases = dict()\n",
    "\n",
    "        for line in data:\n",
    "            key1 = line['concept'][len(url):]\n",
    "            key2 = line['subconcept'][len(url):]\n",
    "            self.etiquetas[key1] = line['conceptLabel']\n",
    "            self.etiquetas[key2] = line['subconceptLabel']\n",
    "            \n",
    "            # Comprobamos todas la combinaciones posibles para evitar KeyError a la hora de añadir con dict.add\n",
    "            not_exist(self.subclases,key1)\n",
    "            not_exist(self.subclases,key2)\n",
    "            not_exist(self.superclases,key1)\n",
    "            not_exist(self.superclases,key2)\n",
    "            \n",
    "            self.subclases[key1].add(key2)\n",
    "            self.superclases[key2].add(key1)\n",
    "\n",
    "            \n",
    "\n",
    "    ## Print-tree: Ejercicio 3\n",
    "    def print_tree(self,concept,depth=2,initial=0):\n",
    "        if initial <= depth: # Debemos imprimir el subárbol hasta una cierta profundidad\n",
    "            etiq = self.etiquetas[concept]\n",
    "            subclass = self.subclases[concept]\n",
    "            print(\"\\t\"*initial+str(initial)+\" \"+etiq+\" (\"+concept+\")\")\n",
    "            for sub in subclass:\n",
    "                self.print_tree(sub,depth,initial+1)\n",
    "\n",
    "\n",
    "\n",
    "    ## LCS: Ejercicio 4\n",
    "    def sub(self,idClass): #Halla los conceptos más generales de un instrumento dado\n",
    "        res = set()\n",
    "        for sup in self.superclases[idClass]:\n",
    "            res = res.union(self.sub(sup)) #Metemos los conceptos mas generales que sus superclases\n",
    "        res = res.union(self.superclases[idClass]).union({idClass}) #Metemos tambien el instrumento actual y sus superclases\n",
    "        return res\n",
    "    \n",
    "    def LCS(self,id1, id2):\n",
    "        sub1 = self.sub(id1)\n",
    "        sub2 = self.sub(id2)\n",
    "        com_sub = sub1.intersection(sub2) # Los conceptos mas generales a ambos\n",
    "        sub_sub = set()  # Vamos a calcular los mas generales de los generales a ambos\n",
    "        for s in com_sub:\n",
    "            generales = self.sub(s)\n",
    "            generales.remove(s) # Solo queremos los estrictamente mas generales\n",
    "            sub_sub = sub_sub.union(generales)\n",
    "        return com_sub.difference(sub_sub) # devolvemos los instrumentos mas generales a ambos, restandoles aquellos \n",
    "                                           # que tengan un concepto mas especifico que sea mas general a ambos\n",
    "    \n",
    "\n",
    "\n",
    "    ## Caminos mínimos: Ejercicio 5\n",
    "    def dfs(self,src,dst): # Búsqueda en profundidad guardando los vértices que vistamos\n",
    "        etiq = self.etiquetas[src]\n",
    "        subclass = self.subclases[src]\n",
    "        vertex = etiq+\" (\"+src+\")\" \n",
    "        \n",
    "        if src == dst:\n",
    "            return [vertex]\n",
    "        # caminos guarda todos los caminos posibles. Acabaremos devolviendo el de menor longitud resolviendo empates aleatoriamente\n",
    "        caminos = set()\n",
    "        for sub in subclass:\n",
    "            path = self.dfs(sub,dst)\n",
    "            if len(path) > 0:\n",
    "                caminos.add(tuple([vertex] + path))\n",
    "        if len(caminos) > 0:\n",
    "            return list(min(caminos,key=len))\n",
    "        return []\n",
    "    \n",
    "\n",
    "    ## Similitud: Ejercicio 6\n",
    "    def similarity(self,A,B):\n",
    "        raiz = 'Q34379'\n",
    "        C = self.LCS(A,B)\n",
    "        simil = list()\n",
    "        # Guardamos todas las similitudes resultantes de todos los LCS posibles y devolvemos el que mayor similitud nos proporcione\n",
    "        for elem in C:\n",
    "            l1 = self.dfs(raiz,elem)\n",
    "            l2 = self.dfs(elem,A)\n",
    "            l3 = self.dfs(elem,B)\n",
    "            sim = (len(l1) - 1) / (len(l1) + len(l2) + len(l3) - 3)\n",
    "            simil.append((sim,l1,l2,l3))\n",
    "        return max(simil)\n"
   ]
  },
  {
   "cell_type": "markdown",
   "metadata": {},
   "source": [
    "### 3) Imprimir un subárbol de la taxonomía\n",
    "\n",
    "Crea una operación _print_tree_ que imprimir la jerarquía de clases a partir de un concepto y hasta un nivel de profundidad determinado.\n",
    "\n",
    "Por ejemplo, a continuación podemos ver el principio de la jerarquía de [voces](https://www.wikidata.org/wiki/Q17172850) con 3 niveles de profundidad:\n",
    "\n",
    "```\n",
    "0 voz (Q17172850)\n",
    "  1 operatic vocal (Q101436564)\n",
    "  1 alto (Q6983813)\n",
    "   2 mezzosoprano ligera (Q6012300)\n",
    "   2 boy alto (Q53395277)\n",
    "   2 alto castrato (Q53395016)\n",
    "   2 contralto (Q37137)\n",
    "  1 contralto (Q37137)\n",
    "   2 contralto cómica (Q5785182)\n",
    "   2 lyric contralto (Q54635214)\n",
    "   2 Tenorino (Q6141663)\n",
    "   2 contralto de coloratura (Q54635184)\n",
    "   2 deep contralto (Q54635335)\n",
    "   2 contralto dramática (Q5785183)\n",
    "  1 bajo (Q27911)\n",
    "   2 heavy acting bass (Q54636271)\n",
    "   2 bajo profundo (Q2532487)\n",
    "   2 bajo buffo (Q1002146)\n",
    "   ...\n",
    "```\n",
    "\n",
    "Como ocurre en todas las grandes bases de conocimiento, dentro de Wikidata hay información que no ha sido bien introducida o está mal clasificada. ¿Puedes encontrar algún ejemplo concreto dentro de la jerarquía de instrumentos?"
   ]
  },
  {
   "cell_type": "code",
   "execution_count": 31,
   "metadata": {},
   "outputs": [],
   "source": [
    "tax = taxonomia()"
   ]
  },
  {
   "cell_type": "code",
   "execution_count": 32,
   "metadata": {
    "tags": []
   },
   "outputs": [
    {
     "name": "stdout",
     "output_type": "stream",
     "text": [
      "0 voice (Q17172850)\n",
      "\t1 bass (Q27911)\n",
      "\t\t2 octavist (Q7082656)\n",
      "\t\t2 bass-baritone (Q810480)\n",
      "\t\t2 basso profondo (Q2532487)\n",
      "\t\t2 character bass (Q20638448)\n",
      "\t\t2 dramatic high bass (Q54636036)\n",
      "\t\t2 heavy acting bass (Q54636271)\n",
      "\t\t2 high bass (Q54636007)\n",
      "\t\t2 Q5885030 (Q5885030)\n",
      "\t\t2 Bass bourdon (Q64363543)\n",
      "\t\t2 buffo bass (Q1002146)\n",
      "\t\t2 lyric high bass (Q3636053)\n",
      "\t\t2 serious bass (Q54636068)\n",
      "\t1 Treble voice (Q25303818)\n",
      "\t1 throat singing (Q1067089)\n",
      "\t1 male singing voice (Q54285279)\n",
      "\t1 mezzo-soprano (Q186506)\n",
      "\t\t2 light mezzo-soprano (Q54634726)\n",
      "\t\t2 mezzo-soprano castrato (Q54634945)\n",
      "\t\t2 lyric mezzo-soprano (Q1878954)\n",
      "\t\t2 Q1300059 (Q1300059)\n",
      "\t\t2 dramatic mezzo-soprano (Q6012297)\n",
      "\t\t2 character mezzo-soprano (Q54634862)\n",
      "\t\t2 sopranist (Q1999862)\n",
      "\t\t2 coloratura mezzo-soprano (Q54634572)\n",
      "\t\t2 altmezzo (Q682525)\n",
      "\t1 high voice (Q98116969)\n",
      "\t\t2 soprano (Q30903)\n",
      "\t\t2 child soprano (Q53829839)\n",
      "\t\t2 tenor (Q27914)\n",
      "\t1 operatic vocal (Q101436564)\n",
      "\t1 baritone (Q31687)\n",
      "\t\t2 Lyric baritone (Q8243255)\n",
      "\t\t2 acting baritone (Q54635751)\n",
      "\t\t2 buffo baritone (Q5721499)\n",
      "\t\t2 bass-baritone (Q810480)\n",
      "\t\t2 Q25404193 (Q25404193)\n",
      "\t\t2 Verdi baritone (Q54635681)\n",
      "\t\t2 dramatic baritone (Q8243257)\n",
      "\t\t2 heldenbaritone (Q1601737)\n",
      "\t\t2 Kavalierbariton (Q54635784)\n",
      "\t\t2 character baritone (Q1062931)\n",
      "\t\t2 light baritone (Q5721503)\n",
      "\t\t2 baryton-Martin (Q21478751)\n",
      "\t\t2 baryton-noble (Q19740895)\n",
      "\t\t2 Q5885030 (Q5885030)\n",
      "\t1 alto (Q6983813)\n",
      "\t\t2 alto castrato (Q53395016)\n",
      "\t\t2 boy alto (Q53395277)\n",
      "\t\t2 contralto (Q37137)\n",
      "\t\t2 Q6012300 (Q6012300)\n",
      "\t1 backing vocal (Q60396389)\n",
      "\t1 female singing voice (Q54285818)\n",
      "\t1 countertenor (Q223166)\n",
      "\t\t2 haute-contre (Q1873389)\n",
      "\t1 contralto (Q37137)\n",
      "\t\t2 acting alto (Q5785182)\n",
      "\t\t2 tenorino (Q6141663)\n",
      "\t\t2 dramatic contralto (Q5785183)\n",
      "\t\t2 lyric contralto (Q54635214)\n",
      "\t\t2 deep contralto (Q54635335)\n",
      "\t\t2 coloratura contralto (Q54635184)\n",
      "\t1 child's voice (Q6164901)\n",
      "\t\t2 child soprano (Q53829839)\n",
      "\t1 castrato (Q210970)\n",
      "\t\t2 alto castrato (Q53395016)\n",
      "\t\t2 mezzo-soprano castrato (Q54634945)\n",
      "\t\t2 soprano castrato (Q53830255)\n"
     ]
    }
   ],
   "source": [
    "## Hecha en el ejercicio 2 dentro de la clase. Ejemplos de ejecución\n",
    "depth = 3\n",
    "tax.print_tree('Q17172850')"
   ]
  },
  {
   "cell_type": "code",
   "execution_count": 33,
   "metadata": {},
   "outputs": [
    {
     "name": "stdout",
     "output_type": "stream",
     "text": [
      "0 string instrument (Q1798603)\n",
      "\t1 Guitarró (Q9001433)\n",
      "\t1 Kotamo (Q1785355)\n",
      "\t1 plucked string instrument (Q230262)\n",
      "\t\t2 hummel (Q2094724)\n",
      "\t\t2 veena (Q959769)\n",
      "\t\t\t3 Gayathri veena (Q56651492)\n",
      "\t\t\t3 vichitra veena (Q863302)\n",
      "\t\t\t3 bobbili veena (Q22137142)\n",
      "\t\t\t3 Sagar Veena (Q56063219)\n",
      "\t\t\t3 Mohan veena (Q6893623)\n",
      "\t\t2 bandora (Q16950185)\n",
      "\t\t2 đàn tranh (Q342234)\n",
      "\t\t2 Ang Kuy (Q530140)\n",
      "\t\t2 Adjalin (Q2824470)\n",
      "\t\t2 who are you? (Q717407)\n",
      "\t\t2 African harp (Q1343310)\n",
      "\t\t\t3 ennanga (Q5375216)\n",
      "\t\t2 espina (Q77073277)\n",
      "\t\t2 Janzi (Q52987174)\n",
      "\t\t2 chitarra battente (Q2297117)\n",
      "\t\t2 Q14295311 (Q14295311)\n",
      "\t\t2 virginal (Q922337)\n",
      "\t\t2 ronroco (Q1133096)\n",
      "\t\t2 lyre (Q201129)\n",
      "\t\t\t3 Q18451574 (Q18451574)\n",
      "\t\t2 tres (Q139727)\n",
      "\t\t2 Sintir (Q47165627)\n",
      "\t\t2 Home Swinger (Q3139624)\n",
      "\t\t2 Q21012217 (Q21012217)\n",
      "\t\t2 bandura (Q262414)\n",
      "\t\t2 chitarrone (Q2216381)\n",
      "\t\t2 Cura (Q1144423)\n",
      "\t\t2 Sagar Veena (Q56063219)\n",
      "\t\t2 Šargija (Q2451473)\n",
      "\t\t2 chillador (Q5099012)\n",
      "\t\t2 đàn bầu (Q342244)\n",
      "\t\t2 acoustic-electric guitar (Q988736)\n",
      "\t\t2 Marxophone (Q3296114)\n",
      "\t\t2 nyatiti (Q3346604)\n",
      "\t\t2 Viola de arame (Q16977296)\n",
      "\t\t2 Seni rebab (Q7450625)\n",
      "\t\t2 koto (Q289037)\n",
      "\t\t2 qanun (Q904646)\n",
      "\t\t2 plucked necked box lutes (Q57306162)\n",
      "\t\t\t3 Bajo quinto (Q73405507)\n",
      "\t\t\t3 sanxian (Q1860805)\n",
      "\t\t\t3 tonkori (Q1328494)\n",
      "\t\t\t3 guitar (Q6607)\n",
      "\t\t\t3 Bajo sexto (Q804161)\n",
      "\t\t\t3 bass banjo (Q810475)\n",
      "\t\t\t3 banjo (Q258896)\n",
      "\t\t\t3 Portuguese guitar (Q585289)\n",
      "\t\t\t3 vihuela (Q751884)\n",
      "\t\t\t3 sueng (Q1445371)\n",
      "\t\t\t3 jarana jarocha (Q1683429)\n",
      "\t\t\t3 orpharion (Q1751664)\n",
      "\t\t\t3 ten-string extended-range classical guitar (Q7699116)\n",
      "\t\t2 ala bohemica (Q81962448)\n",
      "\t\t2 psaltery (Q1044408)\n",
      "\t\t\t3 bowed psaltery (Q204482)\n",
      "\t\t\t3 ala bohemica (Q81962448)\n",
      "\t\t2 Kacapi (Q1823485)\n",
      "\t\t\t3 Q73792461 (Q73792461)\n",
      "\t\t\t3 Q13199437 (Q13199437)\n",
      "\t\t\t3 Q13199436 (Q13199436)\n",
      "\t\t2 cuatro (Q507102)\n",
      "\t\t2 muselar virginal (Q2365138)\n",
      "\t\t2 Q3273394 (Q3273394)\n",
      "\t\t2 sanshin (Q2709639)\n",
      "\t\t\t3 Kankara sanshin (Q6363675)\n",
      "\t\t2 timple (Q1248877)\n",
      "\t\t2 Bordonua (Q2910789)\n",
      "\t\t2 tamburica (Q1423158)\n",
      "\t\t\t3 brač (Q903376)\n",
      "\t\t\t3 bisernica (Q866288)\n",
      "\t\t\t3 bugarija (Q1002233)\n",
      "\t\t\t3 berda (Q818845)\n",
      "\t\t\t3 čelo (Q338463)\n",
      "\t\t2 phin (Q1764519)\n",
      "\t\t2 Guitarra morisca (Q21782861)\n",
      "\t\t2 Yatagan (Q25393850)\n",
      "\t\t2 Q3033215 (Q3033215)\n",
      "\t\t2 Yaybahar (Q82506229)\n",
      "\t\t2 Kissar (Q934675)\n",
      "\t\t2 Springtime (Q3494249)\n",
      "\t\t2 Claviharp (Q1475928)\n",
      "\t\t2 surbahar (Q980383)\n",
      "\t\t2 Krar (Q1786674)\n",
      "\t\t2 chonguri (Q4517166)\n",
      "\t\t2 pipa (Q6685124)\n",
      "\t\t2 guzheng (Q726303)\n",
      "\t\t2 Simsimiyya (Q1165850)\n",
      "\t\t2 dangubica (Q5216205)\n",
      "\t\t2 Q2572376 (Q2572376)\n",
      "\t\t2 zither (Q76239)\n",
      "\t\t\t3 tube zither (Q30034781)\n",
      "\t\t\t3 raft zithers (Q55724721)\n",
      "\t\t\t3 Appalachian dulcimer (Q2145031)\n",
      "\t\t\t3 bar zither (Q30034751)\n",
      "\t\t\t3 board zithers (Q50829016)\n",
      "\t\t\t3 yoochin (Q44617887)\n",
      "\t\t\t3 trough zithers (Q55724763)\n",
      "\t\t\t3 celempung (Q10973993)\n",
      "\t\t\t3 Psalterium (Q3574205)\n",
      "\t\t\t3 Marxophone (Q3296114)\n",
      "\t\t\t3 zither (Q55365924)\n",
      "\t\t\t3 frame zithers (Q55724776)\n",
      "\t\t\t3 Epinette des Vosges (Q17074660)\n",
      "\t\t\t3 Swarmandal (Q627110)\n",
      "\t\t\t3 Dolceola (Q5288901)\n",
      "\t\t\t3 lap harp (Q44608867)\n",
      "\t\t\t3 bangwe (Q15785448)\n",
      "\t\t2 Armónico (Q569224)\n",
      "\t\t2 Moodswinger (Q532584)\n",
      "\t\t2 3rd bridge (Q529070)\n",
      "\t\t2 Kabosy (Q2895785)\n",
      "\t\t2 washtub bass (Q1244764)\n",
      "\t\t2 yatga (Q2599780)\n",
      "\t\t2 Bandolim (Q2882376)\n",
      "\t\t2 Kobza (Q167126)\n",
      "\t\t2 bolon (Q2909502)\n",
      "\t\t2 valiha (Q733370)\n",
      "\t\t2 guqin (Q723720)\n",
      "\t\t2 Mandolin-banjo (Q1419463)\n",
      "\t\t2 angélique (Q356330)\n",
      "\t\t2 baglamas (Q528239)\n",
      "\t\t2 Q31075152 (Q31075152)\n",
      "\t\t2 Moonlander (Q2613413)\n",
      "\t\t2 phorminx (Q539942)\n",
      "\t\t2 necked bowl lutes sounded by plectrum (Q57315360)\n",
      "\t\t\t3 bağlama (Q717773)\n",
      "\t\t\t3 rubab (Q1640934)\n",
      "\t\t\t3 mandocello (Q1889070)\n",
      "\t\t\t3 qanbūs (Q120031)\n",
      "\t\t\t3 Dombra (Q1236973)\n",
      "\t\t\t3 gittern (Q516397)\n",
      "\t\t\t3 barbat (Q807780)\n",
      "\t\t\t3 guitalin (Q17091232)\n",
      "\t\t\t3 sarod (Q687406)\n",
      "\t\t\t3 mandolin (Q302497)\n",
      "\t\t\t3 domra (Q941492)\n",
      "\t\t\t3 Bulgari (Q268329)\n",
      "\t\t\t3 tambura (Q1164636)\n",
      "\t\t\t3 mandola (Q74207)\n",
      "\t\t\t3 Cobza (Q2216785)\n",
      "\t\t\t3 sitar (Q229205)\n",
      "\t\t\t3 oud (Q191000)\n",
      "\t\t2 Viola de cocho (Q3560503)\n",
      "\t\t2 harp (Q47369)\n",
      "\t\t\t3 open harps (Q55724861)\n",
      "\t\t\t3 frame harps (Q26874923)\n",
      "\t\t\t3 Multi-course harp (Q25348503)\n",
      "\t\t\t3 Q1019744 (Q1019744)\n",
      "\t\t\t3 laser harp (Q202094)\n",
      "\t\t2 octavilla (Q56253877)\n",
      "\t\t2 Viola braguesa (Q16966446)\n",
      "\t\t2 tritantri veena (Q48733111)\n",
      "\t\t2 Crwth (Q766461)\n",
      "\t\t2 Clavicymbalum (Q2978671)\n",
      "\t\t2 harp lute (Q3623687)\n",
      "\t\t2 Q3377400 (Q3377400)\n",
      "\t\t2 harpsichord (Q81982)\n",
      "\t\t\t3 Spinettone (Q17146589)\n",
      "\t\t\t3 clavicytherium (Q1746064)\n",
      "\t\t\t3 spinet (Q623941)\n",
      "\t\t\t3 ottavino (virginal) (Q5646557)\n",
      "\t\t2 rajão (Q7285748)\n",
      "\t\t2 chang (Q2956018)\n",
      "\t\t2 Akhilaragamelaveena (Q13109778)\n",
      "\t\t2 Mandolute (Q1889053)\n",
      "\t\t2 Pin (Q60750638)\n",
      "\t\t2 cittern (Q1093290)\n",
      "\t\t\t3 cithrinchen (Q25451376)\n",
      "\t\t\t3 waldzither (Q2542042)\n",
      "\t\t2 ukulele (Q61285)\n",
      "\t\t\t3 Q94994656 (Q94994656)\n",
      "\t\t\t3 resonator ukulele (Q7315754)\n",
      "\t\t\t3 Liliu ukulele (Q94994660)\n",
      "\t\t\t3 lap steel ukulele (Q6488062)\n",
      "\t\t\t3 Baritone ukulele (Q94994658)\n",
      "\t\t2 Çifteli (Q272827)\n",
      "\t\t2 tar (Q546936)\n",
      "\t\t2 Q2974434 (Q2974434)\n",
      "\t\t2 langeleik (Q2744331)\n",
      "\t\t2 plucked string necked bowl lute (Q65516030)\n",
      "\t\t\t3 liuto attiorbato (Q2946292)\n",
      "\t\t\t3 Starosvitska bandura (Q7602177)\n",
      "\t\t\t3 lute (Q180733)\n",
      "\t\t\t3 charango (Q468776)\n",
      "\t\t\t3 theorbo (Q840920)\n",
      "\t\t\t3 Xalam (Q1137869)\n",
      "\t\t\t3 torban (Q2651987)\n",
      "\t\t2 Khamak (Q3196048)\n",
      "\t\t2 tiple (Q2300910)\n",
      "\t\t\t3 Colombian tiple (Q56054583)\n",
      "\t\t2 Begena (Q792006)\n",
      "\t\t2 Scheitholt (Q2624504)\n",
      "\t\t2 panduri (Q3362060)\n",
      "\t\t2 Viola amarantina (Q17037930)\n",
      "\t\t2 ahenk (Q4695064)\n",
      "\t\t2 đàn nguyệt (Q8079924)\n",
      "\t\t2 Bandolón (Q21010028)\n",
      "\t\t2 gusli (Q1147128)\n",
      "\t\t2 inanga (Q1660902)\n",
      "\t\t2 Q3285538 (Q3285538)\n",
      "\t\t2 Ütőgardon (Q176322)\n",
      "\t\t2 Lautenwerck (Q1808586)\n",
      "\t\t2 Mvet (Q1956258)\n",
      "\t\t2 guitars by types (Q3120694)\n",
      "\t\t2 Q3480675 (Q3480675)\n",
      "\t\t2 chakhe (Q5068327)\n",
      "\t\t2 kusle (Q12810474)\n",
      "\t\t2 Misr veena (Q17152331)\n",
      "\t\t2 Q3256872 (Q3256872)\n",
      "\t\t2 citole (Q665657)\n",
      "\t\t2 Q21013802 (Q21013802)\n",
      "\t\t2 bell harp (Q82350983)\n",
      "\t\t2 banjo uke (Q1889346)\n",
      "\t\t2 Cavaquinho (Q1051805)\n",
      "\t1 Cak (Q5018034)\n",
      "\t1 onavillu (Q3559312)\n",
      "\t1 Shurangiz (Q7505340)\n",
      "\t1 zhuihu (Q198215)\n",
      "\t1 Bandol (Q4854658)\n",
      "\t1 fretless instrument (Q3087584)\n",
      "\t\t2 fretless guitar (Q20758461)\n",
      "\t\t2 fretless bass (Q932855)\n",
      "\t\t2 violin family (Q1365097)\n",
      "\t1 Riwana (Q7339001)\n",
      "\t1 Sorahi (Q7563269)\n",
      "\t1 Q18616021 (Q18616021)\n",
      "\t1 Nuzhe (Q16413988)\n",
      "\t1 Q4505787 (Q4505787)\n",
      "\t1 Gaboussi (Q62604102)\n",
      "\t1 Kingri (Q17093070)\n",
      "\t1 Magadis (Q10965821)\n",
      "\t1 Kobyz (Q1778051)\n",
      "\t1 Kiboe (Q6404050)\n",
      "\t1 Viola Toeira (Q17104426)\n",
      "\t1 samica (Q7409426)\n",
      "\t1 Tamboori (Q25110755)\n",
      "\t1 Five string violin (Q5456262)\n",
      "\t1 struck string instrument (Q3152898)\n",
      "\t\t2 tympanon (Q22662103)\n",
      "\t\t2 Yamaha CP series (Q362026)\n",
      "\t\t2 piano (Q5994)\n",
      "\t\t\t3 prepared piano (Q754186)\n",
      "\t\t\t3 Q2752967 (Q2752967)\n",
      "\t\t\t3 tangent piano (Q454862)\n",
      "\t\t\t3 pedal piano (Q2631948)\n",
      "\t\t\t3 Steinway D-274 (Q2341764)\n",
      "\t\t\t3 player piano (Q593995)\n",
      "\t\t\t3 electronic piano (Q3503387)\n",
      "\t\t\t3 grand piano (Q1148709)\n",
      "\t\t\t3 Q448050 (Q448050)\n",
      "\t\t\t3 minipiano (Q17155771)\n",
      "\t\t\t3 giraffe piano (Q1526615)\n",
      "\t\t\t3 upright piano (Q3382191)\n",
      "\t\t\t3 Q105693575 (Q105693575)\n",
      "\t\t\t3 Pianet (Q1512133)\n",
      "\t\t\t3 Q3846212 (Q3846212)\n",
      "\t\t\t3 Luthéal (Q450578)\n",
      "\t\t\t3 square piano (Q2141273)\n",
      "\t\t\t3 Orphica (Q1681975)\n",
      "\t\t\t3 Photoplayer (Q7187884)\n",
      "\t\t\t3 fortepiano (Q1521313)\n",
      "\t\t\t3 electric piano (Q1136507)\n",
      "\t\t2 Q21849594 (Q21849594)\n",
      "\t\t2 Blaster Beam (Q882033)\n",
      "\t1 Nével (Q1221385)\n",
      "\t1 Donskoy ryley (Q5296883)\n",
      "\t1 Rebáb (Q84309610)\n",
      "\t1 viola beiroa (Q16965455)\n",
      "\t1 Kurdish tanbur (Q17067914)\n",
      "\t1 Stradivarius (Q1068162)\n",
      "\t1 bowed string instrument (Q192096)\n",
      "\t\t2 bass violin (Q4867994)\n",
      "\t\t2 gehu (Q831657)\n",
      "\t\t2 Q87929588 (Q87929588)\n",
      "\t\t2 African fiddle (Q4690002)\n",
      "\t\t2 electric violin (Q685663)\n",
      "\t\t2 bambir (Q102047921)\n",
      "\t\t2 vielle (Q843679)\n",
      "\t\t2 Giga (Q3764046)\n",
      "\t\t2 chuniri (Q4518086)\n",
      "\t\t2 Blaster Beam (Q882033)\n",
      "\t\t2 leiqin (Q1815667)\n",
      "\t\t2 Q2924103 (Q2924103)\n",
      "\t\t2 Kamayacha (Q87826372)\n",
      "\t\t2 Bowed lutes (Q87929050)\n",
      "\t\t\t3 fiddle (Q510487)\n",
      "\t\t2 kemenche (Q10969818)\n",
      "\t\t\t3 classical kemençe (Q10259047)\n",
      "\t\t\t3 Kemençe of the Black Sea (Q12060981)\n",
      "\t\t2 Q2303097 (Q2303097)\n",
      "\t\t2 dihu (Q3889206)\n",
      "\t\t2 basolia (Q3622278)\n",
      "\t\t2 Ribab (Q15842338)\n",
      "\t\t2 Q10566114 (Q10566114)\n",
      "\t\t2 viols (Q22329414)\n",
      "\t\t\t3 viola pomposa (Q595730)\n",
      "\t\t\t3 Q102278359 (Q102278359)\n",
      "\t\t\t3 violetta (Q16910024)\n",
      "\t\t\t3 Viola bastarda (Q1095029)\n",
      "\t\t\t3 viol (Q40125)\n",
      "\t\t\t3 viola d'amore (Q742180)\n",
      "\t\t\t3 viola profonda (Q1628064)\n",
      "\t\t\t3 viola da braccio (Q570544)\n",
      "\t\t2 sihu (Q1067399)\n",
      "\t\t2 Stroh violin (Q615941)\n",
      "\t\t2 Q15882423 (Q15882423)\n",
      "\t\t2 Bowed clavier (Q372308)\n",
      "\t\t2 necked bowl lutes played with a bow (Q57315384)\n",
      "\t\t\t3 Cretan lyra (Q369556)\n",
      "\t\t\t3 rebab (Q623509)\n",
      "\t\t\t3 dilrupa (Q5277044)\n",
      "\t\t\t3 erhu (Q726306)\n",
      "\t\t\t3 Byzantine lyra (Q2606162)\n",
      "\t\t\t3 lijerica (Q1420096)\n",
      "\t\t\t3 basolia (Q3622278)\n",
      "\t\t\t3 sarinda (Q348878)\n",
      "\t\t\t3 banhu (Q60689)\n",
      "\t\t\t3 Calabrian lira (Q1130464)\n",
      "\t\t\t3 classical kemençe (Q10259047)\n",
      "\t\t\t3 Gadulka (Q1078965)\n",
      "\t\t\t3 rebec (Q737520)\n",
      "\t\t\t3 gusle (Q669370)\n",
      "\t\t\t3 esraj (Q1818847)\n",
      "\t\t\t3 tromba marina (Q1095084)\n",
      "\t\t2 erxian (Q1363679)\n",
      "\t\t2 Banam (Q15785425)\n",
      "\t\t2 gudok (Q854664)\n",
      "\t\t2 Yaybahar (Q82506229)\n",
      "\t\t2 ghijak (Q4138014)\n",
      "\t\t2 bowed psaltery (Q204482)\n",
      "\t\t2 necked box lutes played with a bow (Q57050725)\n",
      "\t\t\t3 bass violin (Q4867994)\n",
      "\t\t\t3 cello da spalla (Q15838637)\n",
      "\t\t\t3 lirone (Q361424)\n",
      "\t\t\t3 kozobas (Q6435369)\n",
      "\t\t\t3 viola (Q80284)\n",
      "\t\t\t3 Kemençe of the Black Sea (Q12060981)\n",
      "\t\t\t3 igil (Q1572629)\n",
      "\t\t\t3 Hardanger fiddle (Q178933)\n",
      "\t\t\t3 Lira da braccio (Q584967)\n",
      "\t\t\t3 nyckelharpa (Q182718)\n",
      "\t\t\t3 arpeggione (Q638182)\n",
      "\t\t\t3 quinton (Q1243782)\n",
      "\t\t\t3 sarangi (Q608650)\n",
      "\t\t\t3 violino piccolo (Q830863)\n",
      "\t\t\t3 cello (Q8371)\n",
      "\t\t\t3 double bass (Q80019)\n",
      "\t\t\t3 baryton (Q521151)\n",
      "\t\t\t3 violin family (Q1365097)\n",
      "\t\t\t3 Octobass (Q692640)\n",
      "\t\t\t3 violin (Q8355)\n",
      "\t\t\t3 pochette (Q1094813)\n",
      "\t\t2 ghaychak (Q1521728)\n",
      "\t\t2 Chagane (Q4506643)\n",
      "\t\t2 endingidi (Q1340475)\n",
      "\t\t2 goje (Q5577965)\n",
      "\t\t2 daguangxian (Q5208668)\n",
      "\t\t2 cither viol (Q85244912)\n",
      "\t\t2 Kontra (Q1057085)\n",
      "\t\t2 Thomo (Q11897419)\n",
      "\t\t2 huluhu (Q5936422)\n",
      "\t\t2 gaohu (Q579484)\n",
      "\t\t2 Apkhyarta (Q4055237)\n",
      "\t\t2 bana (Q102048081)\n",
      "\t\t2 taus (Q1440075)\n",
      "\t\t2 tautirut (Q2405825)\n",
      "\t\t2 basedla (Q102049376)\n",
      "\t1 mi gyaung (Q1789755)\n",
      "\t1 Viola campaniça (Q16975812)\n",
      "\t1 Streichzither (Q18413275)\n",
      "\t1 zhu (Q1022225)\n",
      "\t1 Cellone (Q859350)\n",
      "\t1 solid body (Q381651)\n",
      "\t\t2 Gibson SG (Q940380)\n",
      "\t\t\t3 Gibson EDS-1275 (Q608223)\n",
      "\t1 tritare (Q3539688)\n",
      "\t1 vertical viola (Q1415095)\n",
      "\t1 Deutsche Basslaute (Q1202193)\n",
      "\t1 Viola terceira (Q16948101)\n"
     ]
    }
   ],
   "source": [
    "tax.print_tree('Q1798603',depth)"
   ]
  },
  {
   "cell_type": "markdown",
   "metadata": {},
   "source": [
    "### 4) Obtener los LCS\n",
    "\n",
    "Crea una operación _lcs_ que devuelva todos los LCS de dos conceptos determinados. Recuerda que un concepto C es LCS(A, B) si es más general que ambos y no se puede especializar más sin dejar de serlo.\n",
    "\n",
    "Para implementarlo seguramente te resulte útil tener otro método que devuelva todos los conceptos más generales que uno dado. _Pista: es fácil de implementar usando operaciones entre conjuntos_. \n",
    "\n",
    "Ejemplos:\n",
    "\n",
    "```\n",
    "mezzosoprano dramática (Q6012297), mezzosoprano ligera (Q54634726), mezzosoprano (Q186506)\n",
    "LCS('Q6012297', 'Q54634726') = {'Q186506'}\n",
    "\n",
    "grave (Q5885030), mezzosoprano ligera (Q6012300), voz (Q17172850)\n",
    "LCS('Q5885030', 'Q6012300') = {'Q17172850'}\n",
    "\n",
    "tenor (Q27914)\n",
    "LCS('Q27914', 'Q27914') = {'Q27914'}\n",
    "\n",
    "viola eléctrica (Q15336282), bajo eléctrico (Q64166304), instrumento de cuerda (Q1798603), electrófono (Q105738), necked box lutes (Q55724840)\n",
    "LCS('Q15336282', 'Q64166304') = {'Q55724840', 'Q105738', 'Q1798603}\n",
    "```"
   ]
  },
  {
   "cell_type": "code",
   "execution_count": 34,
   "metadata": {},
   "outputs": [
    {
     "data": {
      "text/plain": [
       "{'Q186506'}"
      ]
     },
     "execution_count": 34,
     "metadata": {},
     "output_type": "execute_result"
    }
   ],
   "source": [
    "tax.LCS('Q6012297','Q54634726')"
   ]
  },
  {
   "cell_type": "code",
   "execution_count": 35,
   "metadata": {},
   "outputs": [
    {
     "data": {
      "text/plain": [
       "{'Q17172850'}"
      ]
     },
     "execution_count": 35,
     "metadata": {},
     "output_type": "execute_result"
    }
   ],
   "source": [
    "tax.LCS('Q5885030','Q6012300')"
   ]
  },
  {
   "cell_type": "code",
   "execution_count": 36,
   "metadata": {},
   "outputs": [
    {
     "data": {
      "text/plain": [
       "{'Q27914'}"
      ]
     },
     "execution_count": 36,
     "metadata": {},
     "output_type": "execute_result"
    }
   ],
   "source": [
    "tax.LCS('Q27914','Q27914')"
   ]
  },
  {
   "cell_type": "code",
   "execution_count": 37,
   "metadata": {},
   "outputs": [
    {
     "data": {
      "text/plain": [
       "{'Q105738', 'Q1798603', 'Q55724840'}"
      ]
     },
     "execution_count": 37,
     "metadata": {},
     "output_type": "execute_result"
    }
   ],
   "source": [
    "tax.LCS('Q15336282','Q64166304')"
   ]
  },
  {
   "cell_type": "markdown",
   "metadata": {},
   "source": [
    "### 5) Obtener caminos mínimos\n",
    "\n",
    "Crea una operación _path_ que calcule el camino mínimo entre dos conceptos A y B siendo A más o igual de general que B. Como la taxonomía no tiene ciclos puedes implementarlo como una búsqueda en profunidad. Ten en cuenta que los caminos sólo pueden contener conceptos más específicos o iguales a A y más generales o iguales a B.\n",
    "\n",
    "Ejemplos:\n",
    "\n",
    "```\n",
    "path('Q186506', 'Q54634726') = [mezzosoprano (Q186506), mezzosoprano ligera (Q54634726)]\n",
    "\n",
    "path('Q17172850', 'Q6012300') = [voz (Q17172850), alto (Q6983813), mezzosoprano ligera (Q6012300)]\n",
    "\n",
    "path('Q27914', 'Q27914') = [tenor (Q27914)]\n",
    "\n",
    "path('Q34379', 'Q105738') = [instrumento musical (Q34379), cordófono (Q1051772), composite chordophones (Q19588495), lutes (Q1808578), handle lutes (Q30038759), necked lutes (Q55724833), necked box lutes (Q55724840)]\n",
    " ```"
   ]
  },
  {
   "cell_type": "code",
   "execution_count": 39,
   "metadata": {},
   "outputs": [
    {
     "data": {
      "text/plain": [
       "['mezzo-soprano (Q186506)', 'light mezzo-soprano (Q54634726)']"
      ]
     },
     "execution_count": 39,
     "metadata": {},
     "output_type": "execute_result"
    }
   ],
   "source": [
    "tax.dfs('Q186506','Q54634726')"
   ]
  },
  {
   "cell_type": "code",
   "execution_count": 40,
   "metadata": {},
   "outputs": [
    {
     "data": {
      "text/plain": [
       "['voice (Q17172850)', 'alto (Q6983813)', 'Q6012300 (Q6012300)']"
      ]
     },
     "execution_count": 40,
     "metadata": {},
     "output_type": "execute_result"
    }
   ],
   "source": [
    "tax.dfs('Q17172850','Q6012300')"
   ]
  },
  {
   "cell_type": "code",
   "execution_count": 41,
   "metadata": {},
   "outputs": [
    {
     "data": {
      "text/plain": [
       "['tenor (Q27914)']"
      ]
     },
     "execution_count": 41,
     "metadata": {},
     "output_type": "execute_result"
    }
   ],
   "source": [
    "tax.dfs('Q27914','Q27914')"
   ]
  },
  {
   "cell_type": "code",
   "execution_count": 43,
   "metadata": {},
   "outputs": [
    {
     "data": {
      "text/plain": [
       "['musical instrument (Q34379)', 'electrophone (Q105738)']"
      ]
     },
     "execution_count": 43,
     "metadata": {},
     "output_type": "execute_result"
    }
   ],
   "source": [
    "tax.dfs('Q34379', 'Q105738')"
   ]
  },
  {
   "cell_type": "code",
   "execution_count": 42,
   "metadata": {},
   "outputs": [
    {
     "data": {
      "text/plain": [
       "['musical instrument (Q34379)',\n",
       " 'chordophone (Q1051772)',\n",
       " 'composite chordophones (Q19588495)',\n",
       " 'lutes (Q1808578)',\n",
       " 'handle lutes (Q30038759)',\n",
       " 'necked lutes (Q55724833)',\n",
       " 'necked box lutes (Q55724840)']"
      ]
     },
     "execution_count": 42,
     "metadata": {},
     "output_type": "execute_result"
    }
   ],
   "source": [
    "tax.dfs('Q34379','Q55724840')"
   ]
  },
  {
   "cell_type": "markdown",
   "metadata": {},
   "source": [
    "### 6) Calcular la similitud\n",
    "\n",
    "Implementa una operación _similarity_ que calcule la similtud entre dos conceptos. Debe devolver tanto el valor númerico de similitud como los caminos desde la raiz al LCS y desde el LCS a cada uno de los dos conceptos.\n",
    "\n",
    "Ten en cuenta que debes usar un LCS que maximice el valor de similitud. Si la información de Wikidata no ha cambiado, los valores de similitud deberían coincidir con los que aparecen en los ejemplos pero los caminos no tienen por qué. Y recuerda que no es lo mismo el números de aristas de un camino que el número de nodos del camino.\n",
    "\n",
    "Ejemplos:\n",
    "\n",
    "```\n",
    "similarity('Q6012297', 'Q54634726')\n",
    "0.5\n",
    "[instrumento musical (Q34379), voz (Q17172850), mezzosoprano (Q186506)]\n",
    "[mezzosoprano (Q186506), mezzosoprano dramática (Q6012297)]\n",
    "[mezzosoprano (Q186506), mezzosoprano ligera (Q54634726)]\n",
    "\n",
    "similarity('Q186506', 'Q54634726')\n",
    "0.6666666666666666\n",
    "[instrumento musical (Q34379), voz (Q17172850), mezzosoprano (Q186506)]\n",
    "[mezzosoprano (Q186506)]\n",
    "[mezzosoprano (Q186506), mezzosoprano ligera (Q54634726)]\n",
    "\n",
    "similarity('Q27914', 'Q27914')\n",
    "1.0\n",
    "[instrumento musical (Q34379), voz (Q17172850), high voice (Q98116969), tenor (Q27914)]\n",
    "[tenor (Q27914)]\n",
    "[tenor (Q27914)]\n",
    "\n",
    "similarity('Q76239', 'Q78987')\n",
    "0.42857142857142855\n",
    "[instrumento musical (Q34379), cordófono (Q1051772), instrumento de cuerda (Q1798603), instrumento de cuerda pulsada (Q230262)]\n",
    "[instrumento de cuerda pulsada (Q230262), cítara (Q76239)]\n",
    "[instrumento de cuerda pulsada (Q230262), plucked necked box lutes (Q57306162), guitarra (Q6607), guitarra eléctrica (Q78987)]\n",
    "```"
   ]
  },
  {
   "cell_type": "code",
   "execution_count": 44,
   "metadata": {},
   "outputs": [
    {
     "data": {
      "text/plain": [
       "(0.5,\n",
       " ['musical instrument (Q34379)',\n",
       "  'voice (Q17172850)',\n",
       "  'mezzo-soprano (Q186506)'],\n",
       " ['mezzo-soprano (Q186506)', 'dramatic mezzo-soprano (Q6012297)'],\n",
       " ['mezzo-soprano (Q186506)', 'light mezzo-soprano (Q54634726)'])"
      ]
     },
     "execution_count": 44,
     "metadata": {},
     "output_type": "execute_result"
    }
   ],
   "source": [
    "tax.similarity('Q6012297','Q54634726')"
   ]
  },
  {
   "cell_type": "code",
   "execution_count": 45,
   "metadata": {},
   "outputs": [
    {
     "data": {
      "text/plain": [
       "(0.6666666666666666,\n",
       " ['musical instrument (Q34379)',\n",
       "  'voice (Q17172850)',\n",
       "  'mezzo-soprano (Q186506)'],\n",
       " ['mezzo-soprano (Q186506)'],\n",
       " ['mezzo-soprano (Q186506)', 'light mezzo-soprano (Q54634726)'])"
      ]
     },
     "execution_count": 45,
     "metadata": {},
     "output_type": "execute_result"
    }
   ],
   "source": [
    "tax.similarity('Q186506','Q54634726')"
   ]
  },
  {
   "cell_type": "code",
   "execution_count": 46,
   "metadata": {},
   "outputs": [
    {
     "data": {
      "text/plain": [
       "(1.0,\n",
       " ['musical instrument (Q34379)',\n",
       "  'voice (Q17172850)',\n",
       "  'high voice (Q98116969)',\n",
       "  'tenor (Q27914)'],\n",
       " ['tenor (Q27914)'],\n",
       " ['tenor (Q27914)'])"
      ]
     },
     "execution_count": 46,
     "metadata": {},
     "output_type": "execute_result"
    }
   ],
   "source": [
    "tax.similarity('Q27914','Q27914')"
   ]
  },
  {
   "cell_type": "code",
   "execution_count": 47,
   "metadata": {},
   "outputs": [
    {
     "data": {
      "text/plain": [
       "(0.42857142857142855,\n",
       " ['musical instrument (Q34379)',\n",
       "  'chordophone (Q1051772)',\n",
       "  'string instrument (Q1798603)',\n",
       "  'plucked string instrument (Q230262)'],\n",
       " ['plucked string instrument (Q230262)', 'zither (Q76239)'],\n",
       " ['plucked string instrument (Q230262)',\n",
       "  'plucked necked box lutes (Q57306162)',\n",
       "  'guitar (Q6607)',\n",
       "  'electric guitar (Q78987)'])"
      ]
     },
     "execution_count": 47,
     "metadata": {},
     "output_type": "execute_result"
    }
   ],
   "source": [
    "tax.similarity('Q76239', 'Q78987')"
   ]
  },
  {
   "cell_type": "markdown",
   "metadata": {},
   "source": [
    "### 7) Análisis de las similitudes\n",
    "\n",
    "Calcula la similitud 2 a 2 de los siguientes instrumentos y explica razonadamente si los valores obtenidos tienen sentido de acuerdo a tu intuición sobre si se parecen o no.\n",
    "\n",
    "```\n",
    "piano (Q5994), guitarra (Q6607), guitarra eléctrica (Q78987), flauta (Q11405), trompeta (Q8338)\n",
    "```"
   ]
  },
  {
   "cell_type": "code",
   "execution_count": 200,
   "metadata": {},
   "outputs": [
    {
     "data": {
      "text/plain": [
       "(1.0,\n",
       " ['instrumento musical (Q34379)', 'teclado (Q52954)', 'piano (Q5994)'],\n",
       " ['piano (Q5994)'],\n",
       " ['piano (Q5994)'])"
      ]
     },
     "execution_count": 200,
     "metadata": {},
     "output_type": "execute_result"
    }
   ],
   "source": [
    "tax.similarity('Q5994','Q5994') \n",
    "# Piano - piano: 1.0\n",
    "# Son el mismo instrumento, por lo tanto tiene todo el sentido la similitud 1"
   ]
  },
  {
   "cell_type": "code",
   "execution_count": 202,
   "metadata": {},
   "outputs": [
    {
     "data": {
      "text/plain": [
       "(0.2727272727272727,\n",
       " ['instrumento musical (Q34379)',\n",
       "  'cordófono (Q1051772)',\n",
       "  'instrumento de cuerda (Q1798603)',\n",
       "  'instrumento de cuerda pulsada (Q230262)'],\n",
       " ['instrumento de cuerda pulsada (Q230262)',\n",
       "  'cítara (Q76239)',\n",
       "  'board zithers (Q50829016)',\n",
       "  'true board zithers (Q55724736)',\n",
       "  'true board zithers with resonator (Q55724742)',\n",
       "  'true board zithers with resonator box (Q4951628)',\n",
       "  'piano (Q5994)'],\n",
       " ['instrumento de cuerda pulsada (Q230262)',\n",
       "  'plucked necked box lutes (Q57306162)',\n",
       "  'guitarra (Q6607)'])"
      ]
     },
     "execution_count": 202,
     "metadata": {},
     "output_type": "execute_result"
    }
   ],
   "source": [
    "tax.similarity('Q5994', 'Q6607') \n",
    "# Piano - guitarra: 0.27\n",
    "# Valor con bastante sentido, pues ambos son de cuerda e incluso de cuerda pulsada\n",
    "# (razón por la cual si similitud no es ni 0 ni excesivamente baja)."
   ]
  },
  {
   "cell_type": "code",
   "execution_count": 203,
   "metadata": {},
   "outputs": [
    {
     "data": {
      "text/plain": [
       "(0.25,\n",
       " ['instrumento musical (Q34379)',\n",
       "  'cordófono (Q1051772)',\n",
       "  'instrumento de cuerda (Q1798603)',\n",
       "  'instrumento de cuerda pulsada (Q230262)'],\n",
       " ['instrumento de cuerda pulsada (Q230262)',\n",
       "  'cítara (Q76239)',\n",
       "  'board zithers (Q50829016)',\n",
       "  'true board zithers (Q55724736)',\n",
       "  'true board zithers with resonator (Q55724742)',\n",
       "  'true board zithers with resonator box (Q4951628)',\n",
       "  'piano (Q5994)'],\n",
       " ['instrumento de cuerda pulsada (Q230262)',\n",
       "  'plucked necked box lutes (Q57306162)',\n",
       "  'guitarra (Q6607)',\n",
       "  'guitarra eléctrica (Q78987)'])"
      ]
     },
     "execution_count": 203,
     "metadata": {},
     "output_type": "execute_result"
    }
   ],
   "source": [
    "tax.similarity('Q5994', 'Q78987') \n",
    "# Piano - guitarra eléctrica: 0.25\n",
    "# es bastante razonable, pues es un poco menor que\n",
    "# el piano y la guitarra normal, debido a que el piano no es electrico"
   ]
  },
  {
   "cell_type": "code",
   "execution_count": 205,
   "metadata": {},
   "outputs": [
    {
     "data": {
      "text/plain": [
       "(0.0,\n",
       " ['instrumento musical (Q34379)'],\n",
       " ['instrumento musical (Q34379)', 'teclado (Q52954)', 'piano (Q5994)'],\n",
       " ['instrumento musical (Q34379)',\n",
       "  'aerófono (Q659216)',\n",
       "  'instrumento de viento (Q173453)',\n",
       "  'flauta (Q11405)'])"
      ]
     },
     "execution_count": 205,
     "metadata": {},
     "output_type": "execute_result"
    }
   ],
   "source": [
    "tax.similarity('Q5994', 'Q11405')\n",
    "# Piano - flauta: 0\n",
    "# No se parecen en nada (el lcs es la raiz)"
   ]
  },
  {
   "cell_type": "code",
   "execution_count": 206,
   "metadata": {},
   "outputs": [
    {
     "data": {
      "text/plain": [
       "(0.0,\n",
       " ['instrumento musical (Q34379)'],\n",
       " ['instrumento musical (Q34379)', 'teclado (Q52954)', 'piano (Q5994)'],\n",
       " ['instrumento musical (Q34379)',\n",
       "  'aerófono (Q659216)',\n",
       "  'instrumento de viento (Q173453)',\n",
       "  'flauta (Q11405)'])"
      ]
     },
     "execution_count": 206,
     "metadata": {},
     "output_type": "execute_result"
    }
   ],
   "source": [
    "tax.similarity('Q5994', 'Q11405')\n",
    "# Piano - trompeta: 0 \n",
    "# No se parecen en nada (el lcs es la raiz)"
   ]
  },
  {
   "cell_type": "code",
   "execution_count": 207,
   "metadata": {},
   "outputs": [
    {
     "data": {
      "text/plain": [
       "(0.8333333333333334,\n",
       " ['instrumento musical (Q34379)',\n",
       "  'cordófono (Q1051772)',\n",
       "  'instrumento de cuerda (Q1798603)',\n",
       "  'instrumento de cuerda pulsada (Q230262)',\n",
       "  'plucked necked box lutes (Q57306162)',\n",
       "  'guitarra (Q6607)'],\n",
       " ['guitarra (Q6607)'],\n",
       " ['guitarra (Q6607)', 'guitarra eléctrica (Q78987)'])"
      ]
     },
     "execution_count": 207,
     "metadata": {},
     "output_type": "execute_result"
    }
   ],
   "source": [
    "tax.similarity('Q6607', 'Q78987') \n",
    "# Guitarra - guitarra electrica: 0.833\n",
    "# Ambos instrumentos de cuerda y guitarras. Esperable"
   ]
  },
  {
   "cell_type": "code",
   "execution_count": 208,
   "metadata": {},
   "outputs": [
    {
     "data": {
      "text/plain": [
       "(0.0,\n",
       " ['instrumento musical (Q34379)'],\n",
       " ['instrumento musical (Q34379)',\n",
       "  'cordófono (Q1051772)',\n",
       "  'instrumento de cuerda (Q1798603)',\n",
       "  'instrumento de cuerda pulsada (Q230262)',\n",
       "  'plucked necked box lutes (Q57306162)',\n",
       "  'guitarra (Q6607)'],\n",
       " ['instrumento musical (Q34379)',\n",
       "  'aerófono (Q659216)',\n",
       "  'instrumento de viento (Q173453)',\n",
       "  'flauta (Q11405)'])"
      ]
     },
     "execution_count": 208,
     "metadata": {},
     "output_type": "execute_result"
    }
   ],
   "source": [
    "tax.similarity('Q6607', 'Q11405')\n",
    "# Guitarra - flauta: 0\n",
    "# No son del mismo tipo ni se parecen, asi que es consistente la similitud 0"
   ]
  },
  {
   "cell_type": "code",
   "execution_count": 209,
   "metadata": {},
   "outputs": [
    {
     "data": {
      "text/plain": [
       "(0.0,\n",
       " ['instrumento musical (Q34379)'],\n",
       " ['instrumento musical (Q34379)',\n",
       "  'cordófono (Q1051772)',\n",
       "  'instrumento de cuerda (Q1798603)',\n",
       "  'instrumento de cuerda pulsada (Q230262)',\n",
       "  'plucked necked box lutes (Q57306162)',\n",
       "  'guitarra (Q6607)'],\n",
       " ['instrumento musical (Q34379)',\n",
       "  'aerófono (Q659216)',\n",
       "  'instrumento de viento (Q173453)',\n",
       "  'instrumento de viento-metal (Q180744)',\n",
       "  'trompeta (Q8338)'])"
      ]
     },
     "execution_count": 209,
     "metadata": {},
     "output_type": "execute_result"
    }
   ],
   "source": [
    "tax.similarity('Q6607', 'Q8338')\n",
    "# Guitarra - trompeta: 0\n",
    "# No son del mismo tipo ni se parecen, asi que es consistente la similitud"
   ]
  },
  {
   "cell_type": "code",
   "execution_count": 210,
   "metadata": {},
   "outputs": [
    {
     "data": {
      "text/plain": [
       "(0.0,\n",
       " ['instrumento musical (Q34379)'],\n",
       " ['instrumento musical (Q34379)',\n",
       "  'electrófono (Q105738)',\n",
       "  'electro-acoustic instruments (Q50821977)',\n",
       "  'electro-acoustic chordophones (Q55738960)',\n",
       "  'guitarra eléctrica (Q78987)'],\n",
       " ['instrumento musical (Q34379)',\n",
       "  'aerófono (Q659216)',\n",
       "  'instrumento de viento (Q173453)',\n",
       "  'flauta (Q11405)'])"
      ]
     },
     "execution_count": 210,
     "metadata": {},
     "output_type": "execute_result"
    }
   ],
   "source": [
    "tax.similarity('Q78987', 'Q11405' )\n",
    "# Guitarra electrica - flauta: 0\n",
    "# No se parecen en nada (el lcs es la raiz)"
   ]
  },
  {
   "cell_type": "code",
   "execution_count": 211,
   "metadata": {},
   "outputs": [
    {
     "data": {
      "text/plain": [
       "(0.0,\n",
       " ['instrumento musical (Q34379)'],\n",
       " ['instrumento musical (Q34379)',\n",
       "  'electrófono (Q105738)',\n",
       "  'electro-acoustic instruments (Q50821977)',\n",
       "  'electro-acoustic chordophones (Q55738960)',\n",
       "  'guitarra eléctrica (Q78987)'],\n",
       " ['instrumento musical (Q34379)',\n",
       "  'aerófono (Q659216)',\n",
       "  'instrumento de viento (Q173453)',\n",
       "  'instrumento de viento-metal (Q180744)',\n",
       "  'trompeta (Q8338)'])"
      ]
     },
     "execution_count": 211,
     "metadata": {},
     "output_type": "execute_result"
    }
   ],
   "source": [
    "tax.similarity('Q78987', 'Q8338' )\n",
    "# Guitarra electrica - trompeta: 0\n",
    "# No son del mismo tipo ni se parecen, asi que es consistente la similitud 0"
   ]
  },
  {
   "cell_type": "code",
   "execution_count": 212,
   "metadata": {},
   "outputs": [
    {
     "data": {
      "text/plain": [
       "(0.4,\n",
       " ['instrumento musical (Q34379)',\n",
       "  'aerófono (Q659216)',\n",
       "  'instrumento de viento (Q173453)'],\n",
       " ['instrumento de viento (Q173453)', 'flauta (Q11405)'],\n",
       " ['instrumento de viento (Q173453)',\n",
       "  'instrumento de viento-metal (Q180744)',\n",
       "  'trompeta (Q8338)'])"
      ]
     },
     "execution_count": 212,
     "metadata": {},
     "output_type": "execute_result"
    }
   ],
   "source": [
    "tax.similarity('Q11405', 'Q8338' )\n",
    "# Flauta - trompeta: 0.4 \n",
    "# Ambos son de viento, y por ello la similitud es positiva.\n",
    "# Sin embargo, son distintos instrumentos, y por ello tienen menor similitud que la guitarra y la guitarra electrica\n",
    "# Sorprende algo quizá que su similitud sea mayor que la que hay entre el piano y la guitarra, siendo que el LCS en ese caso es, en teoría,\n",
    "# menos que general que en este caso: instrumento de cuerda pulsada (nivel 4) y instrumento de viento (nivel 3)."
   ]
  }
 ],
 "metadata": {
  "kernelspec": {
   "display_name": "Python 3",
   "language": "python",
   "name": "python3"
  },
  "language_info": {
   "codemirror_mode": {
    "name": "ipython",
    "version": 3
   },
   "file_extension": ".py",
   "mimetype": "text/x-python",
   "name": "python",
   "nbconvert_exporter": "python",
   "pygments_lexer": "ipython3",
   "version": "3.7.6"
  }
 },
 "nbformat": 4,
 "nbformat_minor": 4
}
